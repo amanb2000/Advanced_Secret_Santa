{
 "cells": [
  {
   "cell_type": "markdown",
   "metadata": {},
   "source": [
    "# Advanced Secret Santa\n",
    "\n",
    "Have you ever been worried that your secret santa was not extra enough? \n",
    "\n",
    "Why not discriminate against your friends with the power of an *EXCLUSION MATRIX*!\n",
    "\n",
    "## Data Formatting\n",
    "\n",
    "- `people`: List of people.\n",
    "- `M`: Matrix for allowed/disallowed pairings.\n",
    "    - Columns represent each person (in order of `people`).\n",
    "    - Entries along columns $c^{(i)}_j$ are `0` if person $i$ is ALLOWED to give to person $j$.\n",
    "    - Entries alongn column $c^{(i)}_j$ are `1` if person $i$ is NOT ALLOWED to give to person $j$.\n",
    "\n",
    "## Goal\n",
    "\n",
    "- Generate matrix `A` where each column has only one non-zero entry.\n",
    "- Entry $c^{(i)}_j$ is $1$ if person $i$ will GIVE a gift to person $j$.\n",
    "\n",
    "### Subsequent Conditions on `A`\n",
    "\n",
    "- Each column can have only 1 non-zero entry.\n",
    "- Each row can have only 1 non-zero entry.\n",
    "\n",
    "### Approach 1: Prioritize by Free Dimensions\n",
    "\n",
    "- Prioritize columns by number of zero-entries (i.e. free spaces). Fewer is higher priority. \n",
    "- Choose a random free enntry in the first one. \n",
    "    - Eliminate."
   ]
  },
  {
   "cell_type": "code",
   "execution_count": 32,
   "metadata": {},
   "outputs": [],
   "source": [
    "# IMPORT BOX #\n",
    "\n",
    "using LinearAlgebra"
   ]
  },
  {
   "cell_type": "code",
   "execution_count": 33,
   "metadata": {},
   "outputs": [
    {
     "data": {
      "text/plain": [
       "15×15 Transpose{Int64,Array{Int64,2}}:\n",
       " 1  1  0  0  0  0  0  0  0  0  0  0  0  0  0\n",
       " 1  1  0  0  0  1  0  0  0  1  0  0  0  0  0\n",
       " 0  0  1  1  0  0  0  0  0  0  0  0  0  0  0\n",
       " 0  0  1  1  0  0  0  0  0  0  0  0  0  0  0\n",
       " 0  0  0  0  1  1  0  0  0  0  0  0  1  0  1\n",
       " 0  1  0  0  1  1  0  0  1  1  0  0  1  1  1\n",
       " 0  0  0  0  0  0  1  0  0  0  0  0  0  1  0\n",
       " 0  0  0  0  0  0  0  1  1  1  0  0  0  0  0\n",
       " 0  0  0  0  0  1  0  1  1  1  0  0  0  0  1\n",
       " 0  1  0  0  0  1  0  1  1  1  0  0  1  0  1\n",
       " 0  0  0  0  0  0  0  0  0  0  1  1  0  0  0\n",
       " 0  0  0  0  0  0  0  0  0  0  1  1  0  0  0\n",
       " 0  0  0  0  1  1  0  0  1  1  0  0  1  1  1\n",
       " 0  0  0  0  0  1  1  0  0  0  0  0  0  1  1\n",
       " 0  0  0  0  0  1  0  0  1  1  0  0  0  0  1"
      ]
     },
     "execution_count": 33,
     "metadata": {},
     "output_type": "execute_result"
    }
   ],
   "source": [
    "people = [\"Callie\", \"Ghamr\", \"Eli\", \"Aman\", \n",
    "            \"Trav\", \"Tai\", \"Spencer\", \"Aidan\", \n",
    "            \"Jack Stanley\", \"Jack Phelps\", \"Fred\", \n",
    "            \"Harish\", \"Kanav\", \"Kerryn\", \"Parker\"]\n",
    "\n",
    "M =[1 1 0 0 0 0 0 0 0 0 0 0 0 0 0;\n",
    "    1 1 0 0 0 1 0 0 0 1 0 0 0 0 0;\n",
    "    0 0 1 1 0 0 0 0 0 0 0 0 0 0 0;\n",
    "    0 0 1 1 0 0 0 0 0 0 0 0 0 0 0;\n",
    "    0 0 0 0 1 1 0 0 0 0 0 0 1 0 0;\n",
    "    0 1 0 0 1 1 0 0 1 1 0 0 1 1 1;\n",
    "    0 0 0 0 0 0 1 0 0 0 0 0 0 1 0;\n",
    "    0 0 0 0 0 0 0 1 1 1 0 0 0 0 0;\n",
    "    0 0 0 0 0 1 0 1 1 1 0 0 1 0 1;\n",
    "    0 1 0 0 0 1 0 1 1 1 0 0 1 0 1;\n",
    "    0 0 0 0 0 0 0 0 0 0 1 1 0 0 0;\n",
    "    0 0 0 0 0 0 0 0 0 0 1 1 0 0 0;\n",
    "    0 0 0 0 1 1 0 0 0 1 0 0 1 0 0;\n",
    "    0 0 0 0 0 1 1 0 0 0 0 0 1 1 0;\n",
    "    0 0 0 0 1 1 0 0 1 1 0 0 1 1 1]\n",
    "M=transpose(M)"
   ]
  },
  {
   "cell_type": "code",
   "execution_count": 43,
   "metadata": {},
   "outputs": [],
   "source": [
    "num_free_dims = zeros(size(M,1))\n",
    "A = I(15)\n",
    "\n",
    "\n",
    "for i = 1:size(M,1)\n",
    "    num_free_dims[i] = 15-sum(M[:,i])\n",
    "end\n"
   ]
  },
  {
   "cell_type": "code",
   "execution_count": 45,
   "metadata": {},
   "outputs": [],
   "source": [
    "# argmin(num_free_dims)\n",
    "allowed_recipients = ones(15)\n",
    "\n",
    "for i = 1:15\n",
    "    ind = argmin(num_free_dims)\n",
    "    num_free_dims[ind] = Inf\n",
    "    \n",
    "    num_allowed = sum(allowed_recipients)\n",
    "    \n",
    "    rand_entry = rand(1:num_allowed)\n",
    "end"
   ]
  },
  {
   "cell_type": "code",
   "execution_count": 47,
   "metadata": {},
   "outputs": [
    {
     "data": {
      "text/plain": [
       "15-element Array{Float64,1}:\n",
       " 0.0\n",
       " 0.0\n",
       " 0.0\n",
       " 0.0\n",
       " 0.0\n",
       " 0.0\n",
       " 0.0\n",
       " 0.0\n",
       " 0.0\n",
       " 0.0\n",
       " 0.0\n",
       " 0.0\n",
       " 0.0\n",
       " 0.0\n",
       " 0.0"
      ]
     },
     "execution_count": 47,
     "metadata": {},
     "output_type": "execute_result"
    }
   ],
   "source": [
    "allowed_recipients"
   ]
  },
  {
   "cell_type": "code",
   "execution_count": null,
   "metadata": {},
   "outputs": [],
   "source": []
  },
  {
   "cell_type": "code",
   "execution_count": null,
   "metadata": {},
   "outputs": [],
   "source": []
  },
  {
   "cell_type": "code",
   "execution_count": null,
   "metadata": {},
   "outputs": [],
   "source": []
  }
 ],
 "metadata": {
  "kernelspec": {
   "display_name": "Julia 1.5.1",
   "language": "julia",
   "name": "julia-1.5"
  },
  "language_info": {
   "file_extension": ".jl",
   "mimetype": "application/julia",
   "name": "julia",
   "version": "1.5.1"
  }
 },
 "nbformat": 4,
 "nbformat_minor": 2
}
